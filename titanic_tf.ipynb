{
 "cells": [
  {
   "cell_type": "code",
   "execution_count": null,
   "metadata": {},
   "outputs": [],
   "source": [
    "import pandas as pd\n",
    "import numpy as np\n",
    "import tensorflow as tf\n",
    "from tensorflow.keras.callbacks import TensorBoard\n",
    "import time"
   ]
  },
  {
   "cell_type": "code",
   "execution_count": null,
   "metadata": {},
   "outputs": [],
   "source": [
    "train_data = pd.read_csv(\"datasets/titanic/train.csv\")\n",
    "train_data.head()"
   ]
  },
  {
   "cell_type": "code",
   "execution_count": null,
   "metadata": {},
   "outputs": [],
   "source": [
    "test_data = pd.read_csv(\"datasets/titanic/test.csv\")\n",
    "test_data.head()"
   ]
  },
  {
   "cell_type": "code",
   "execution_count": null,
   "metadata": {},
   "outputs": [],
   "source": [
    "train = train_data[\"Age\"]\n",
    "# train = train.dropna()\n",
    "train.shape"
   ]
  },
  {
   "cell_type": "code",
   "execution_count": null,
   "metadata": {},
   "outputs": [],
   "source": [
    "train = train_data[[\"Pclass\", \"Sex\", \"Age\", \"Parch\", \"SibSp\", \"Survived\"]]\n",
    "train = train.dropna(how=\"any\", axis=0)\n",
    "# test = test_data[[\"Pclass\", \"Sex\", \"Age\", \"Parch\", \"SibSp\"]]\n",
    "# test = test.dropna(how=\"any\", axis=0)\n",
    "\n",
    "y = train[\"Survived\"]\n",
    "\n",
    "features = [\"Pclass\", \"Sex\", \"Age\", \"Parch\", \"SibSp\"]\n",
    "X = pd.get_dummies(train[features])\n",
    "X_test = pd.get_dummies(test_data[features])\n",
    "\n",
    "y = tf.constant(np.array([y]).T)\n",
    "X = tf.constant(np.array(X))\n",
    "\n",
    "X_test = tf.constant(np.array(X_test))"
   ]
  },
  {
   "cell_type": "code",
   "execution_count": null,
   "metadata": {},
   "outputs": [],
   "source": [
    "X = tf.keras.utils.normalize(X)\n",
    "X_test = tf.keras.utils.normalize(X_test)\n",
    "\n",
    "y.shape"
   ]
  },
  {
   "cell_type": "code",
   "execution_count": 73,
   "metadata": {
    "tags": []
   },
   "outputs": [],
   "source": [
    "def build_model(layers, nodes):\n",
    "    NAME = f\"{nodes}-nodes-{layers}-layers-{int(time.time())}\"\n",
    "    print(NAME)\n",
    "    tensorboard = TensorBoard(log_dir=f\"logs/{NAME}\")\n",
    "    model = tf.keras.models.Sequential()\n",
    "    \n",
    "    for l in range(layers):\n",
    "        model.add(tf.keras.layers.Dense(nodes, activation=\"relu\"))\n",
    "\n",
    "    model.add(tf.keras.layers.Dense(1, activation=\"sigmoid\"))\n",
    "\n",
    "    model.compile(optimizer=tf.keras.optimizers.Adam(), loss=tf.keras.losses.binary_crossentropy, metrics=[\"accuracy\"])\n",
    "\n",
    "    model.fit(X, y, epochs=100, batch_size=64, validation_split=0.2, verbose=1, callbacks=[tensorboard])\n",
    "\n",
    "    return model"
   ]
  },
  {
   "cell_type": "code",
   "execution_count": null,
   "metadata": {},
   "outputs": [],
   "source": [
    "nodes = [4, 8, 12, 16, 32]\n",
    "\n",
    "for layer in range(15):\n",
    "    for node in nodes:\n",
    "        model = build_model(layer, node)"
   ]
  },
  {
   "cell_type": "code",
   "execution_count": 78,
   "metadata": {},
   "outputs": [
    {
     "name": "stdout",
     "output_type": "stream",
     "text": [
      "32-nodes-5-layers-1634215582\n",
      "Epoch 1/100\n"
     ]
    },
    {
     "name": "stderr",
     "output_type": "stream",
     "text": [
      "2021-10-14 18:16:22.451357: I tensorflow/core/profiler/lib/profiler_session.cc:131] Profiler session initializing.\n",
      "2021-10-14 18:16:22.451418: I tensorflow/core/profiler/lib/profiler_session.cc:146] Profiler session started.\n",
      "2021-10-14 18:16:22.452361: I tensorflow/core/profiler/lib/profiler_session.cc:164] Profiler session tear down.\n"
     ]
    },
    {
     "name": "stdout",
     "output_type": "stream",
     "text": [
      "3/9 [=========>....................] - ETA: 0s - loss: 0.6894 - accuracy: 0.5938"
     ]
    },
    {
     "name": "stderr",
     "output_type": "stream",
     "text": [
      "2021-10-14 18:16:22.976317: I tensorflow/core/profiler/lib/profiler_session.cc:131] Profiler session initializing.\n",
      "2021-10-14 18:16:22.976360: I tensorflow/core/profiler/lib/profiler_session.cc:146] Profiler session started.\n",
      "2021-10-14 18:16:23.021214: I tensorflow/core/profiler/lib/profiler_session.cc:66] Profiler session collecting data.\n",
      "2021-10-14 18:16:23.022313: I tensorflow/core/profiler/lib/profiler_session.cc:164] Profiler session tear down.\n",
      "2021-10-14 18:16:23.023956: I tensorflow/core/profiler/rpc/client/save_profile.cc:136] Creating directory: logs/32-nodes-5-layers-1634215582/train/plugins/profile/2021_10_14_18_16_23\n",
      "\n",
      "2021-10-14 18:16:23.024646: I tensorflow/core/profiler/rpc/client/save_profile.cc:142] Dumped gzipped tool data for trace.json.gz to logs/32-nodes-5-layers-1634215582/train/plugins/profile/2021_10_14_18_16_23/root.trace.json.gz\n",
      "2021-10-14 18:16:23.026005: I tensorflow/core/profiler/rpc/client/save_profile.cc:136] Creating directory: logs/32-nodes-5-layers-1634215582/train/plugins/profile/2021_10_14_18_16_23\n",
      "\n",
      "2021-10-14 18:16:23.026137: I tensorflow/core/profiler/rpc/client/save_profile.cc:142] Dumped gzipped tool data for memory_profile.json.gz to logs/32-nodes-5-layers-1634215582/train/plugins/profile/2021_10_14_18_16_23/root.memory_profile.json.gz\n",
      "2021-10-14 18:16:23.026303: I tensorflow/core/profiler/rpc/client/capture_profile.cc:251] Creating directory: logs/32-nodes-5-layers-1634215582/train/plugins/profile/2021_10_14_18_16_23\n",
      "Dumped tool data for xplane.pb to logs/32-nodes-5-layers-1634215582/train/plugins/profile/2021_10_14_18_16_23/root.xplane.pb\n",
      "Dumped tool data for overview_page.pb to logs/32-nodes-5-layers-1634215582/train/plugins/profile/2021_10_14_18_16_23/root.overview_page.pb\n",
      "Dumped tool data for input_pipeline.pb to logs/32-nodes-5-layers-1634215582/train/plugins/profile/2021_10_14_18_16_23/root.input_pipeline.pb\n",
      "Dumped tool data for tensorflow_stats.pb to logs/32-nodes-5-layers-1634215582/train/plugins/profile/2021_10_14_18_16_23/root.tensorflow_stats.pb\n",
      "Dumped tool data for kernel_stats.pb to logs/32-nodes-5-layers-1634215582/train/plugins/profile/2021_10_14_18_16_23/root.kernel_stats.pb\n",
      "\n"
     ]
    },
    {
     "name": "stdout",
     "output_type": "stream",
     "text": [
      "9/9 [==============================] - 1s 62ms/step - loss: 0.6858 - accuracy: 0.5902 - val_loss: 0.6762 - val_accuracy: 0.6084\n",
      "Epoch 2/100\n",
      "9/9 [==============================] - 0s 5ms/step - loss: 0.6768 - accuracy: 0.5902 - val_loss: 0.6668 - val_accuracy: 0.6084\n",
      "Epoch 3/100\n",
      "9/9 [==============================] - 0s 5ms/step - loss: 0.6753 - accuracy: 0.5902 - val_loss: 0.6622 - val_accuracy: 0.6084\n",
      "Epoch 4/100\n",
      "9/9 [==============================] - 0s 5ms/step - loss: 0.6721 - accuracy: 0.5902 - val_loss: 0.6598 - val_accuracy: 0.6084\n",
      "Epoch 5/100\n",
      "9/9 [==============================] - 0s 5ms/step - loss: 0.6701 - accuracy: 0.5902 - val_loss: 0.6580 - val_accuracy: 0.6084\n",
      "Epoch 6/100\n",
      "9/9 [==============================] - 0s 5ms/step - loss: 0.6677 - accuracy: 0.5919 - val_loss: 0.6533 - val_accuracy: 0.6154\n",
      "Epoch 7/100\n",
      "9/9 [==============================] - 0s 5ms/step - loss: 0.6652 - accuracy: 0.5954 - val_loss: 0.6474 - val_accuracy: 0.6294\n",
      "Epoch 8/100\n",
      "9/9 [==============================] - 0s 6ms/step - loss: 0.6615 - accuracy: 0.5989 - val_loss: 0.6438 - val_accuracy: 0.6364\n",
      "Epoch 9/100\n",
      "9/9 [==============================] - 0s 5ms/step - loss: 0.6550 - accuracy: 0.6077 - val_loss: 0.6315 - val_accuracy: 0.6294\n",
      "Epoch 10/100\n",
      "9/9 [==============================] - 0s 5ms/step - loss: 0.6494 - accuracy: 0.6077 - val_loss: 0.6210 - val_accuracy: 0.6434\n",
      "Epoch 11/100\n",
      "9/9 [==============================] - 0s 6ms/step - loss: 0.6382 - accuracy: 0.6147 - val_loss: 0.6022 - val_accuracy: 0.6573\n",
      "Epoch 12/100\n",
      "9/9 [==============================] - 0s 5ms/step - loss: 0.6251 - accuracy: 0.6340 - val_loss: 0.5822 - val_accuracy: 0.6643\n",
      "Epoch 13/100\n",
      "9/9 [==============================] - 0s 5ms/step - loss: 0.6115 - accuracy: 0.6410 - val_loss: 0.5658 - val_accuracy: 0.8462\n",
      "Epoch 14/100\n",
      "9/9 [==============================] - 0s 8ms/step - loss: 0.5915 - accuracy: 0.7128 - val_loss: 0.5272 - val_accuracy: 0.7902\n",
      "Epoch 15/100\n",
      "9/9 [==============================] - 0s 6ms/step - loss: 0.5733 - accuracy: 0.7356 - val_loss: 0.5001 - val_accuracy: 0.8112\n",
      "Epoch 16/100\n",
      "9/9 [==============================] - 0s 5ms/step - loss: 0.5556 - accuracy: 0.7461 - val_loss: 0.4856 - val_accuracy: 0.8042\n",
      "Epoch 17/100\n",
      "9/9 [==============================] - 0s 5ms/step - loss: 0.5495 - accuracy: 0.7391 - val_loss: 0.4518 - val_accuracy: 0.8252\n",
      "Epoch 18/100\n",
      "9/9 [==============================] - 0s 5ms/step - loss: 0.5329 - accuracy: 0.7548 - val_loss: 0.4402 - val_accuracy: 0.8392\n",
      "Epoch 19/100\n",
      "9/9 [==============================] - 0s 5ms/step - loss: 0.5237 - accuracy: 0.7548 - val_loss: 0.4304 - val_accuracy: 0.8392\n",
      "Epoch 20/100\n",
      "9/9 [==============================] - 0s 6ms/step - loss: 0.5304 - accuracy: 0.7496 - val_loss: 0.4626 - val_accuracy: 0.7972\n",
      "Epoch 21/100\n",
      "9/9 [==============================] - 0s 6ms/step - loss: 0.5136 - accuracy: 0.7706 - val_loss: 0.4131 - val_accuracy: 0.8601\n",
      "Epoch 22/100\n",
      "9/9 [==============================] - 0s 4ms/step - loss: 0.5091 - accuracy: 0.7653 - val_loss: 0.4065 - val_accuracy: 0.8531\n",
      "Epoch 23/100\n",
      "9/9 [==============================] - 0s 5ms/step - loss: 0.5091 - accuracy: 0.7828 - val_loss: 0.4390 - val_accuracy: 0.8112\n",
      "Epoch 24/100\n",
      "9/9 [==============================] - 0s 5ms/step - loss: 0.5146 - accuracy: 0.7758 - val_loss: 0.4363 - val_accuracy: 0.8182\n",
      "Epoch 25/100\n",
      "9/9 [==============================] - 0s 5ms/step - loss: 0.5126 - accuracy: 0.7636 - val_loss: 0.4113 - val_accuracy: 0.8322\n",
      "Epoch 26/100\n",
      "9/9 [==============================] - 0s 5ms/step - loss: 0.5044 - accuracy: 0.7653 - val_loss: 0.3981 - val_accuracy: 0.8601\n",
      "Epoch 27/100\n",
      "9/9 [==============================] - 0s 5ms/step - loss: 0.4962 - accuracy: 0.7863 - val_loss: 0.4187 - val_accuracy: 0.8322\n",
      "Epoch 28/100\n",
      "9/9 [==============================] - 0s 5ms/step - loss: 0.4874 - accuracy: 0.7828 - val_loss: 0.3926 - val_accuracy: 0.8671\n",
      "Epoch 29/100\n",
      "9/9 [==============================] - 0s 5ms/step - loss: 0.4840 - accuracy: 0.7933 - val_loss: 0.3933 - val_accuracy: 0.8462\n",
      "Epoch 30/100\n",
      "9/9 [==============================] - 0s 5ms/step - loss: 0.4838 - accuracy: 0.7793 - val_loss: 0.3881 - val_accuracy: 0.8462\n",
      "Epoch 31/100\n",
      "9/9 [==============================] - 0s 5ms/step - loss: 0.4912 - accuracy: 0.7706 - val_loss: 0.3935 - val_accuracy: 0.8462\n",
      "Epoch 32/100\n",
      "9/9 [==============================] - 0s 5ms/step - loss: 0.4812 - accuracy: 0.7951 - val_loss: 0.3936 - val_accuracy: 0.8462\n",
      "Epoch 33/100\n",
      "9/9 [==============================] - 0s 5ms/step - loss: 0.4781 - accuracy: 0.7863 - val_loss: 0.3793 - val_accuracy: 0.8671\n",
      "Epoch 34/100\n",
      "9/9 [==============================] - 0s 4ms/step - loss: 0.4771 - accuracy: 0.7811 - val_loss: 0.3792 - val_accuracy: 0.8462\n",
      "Epoch 35/100\n",
      "9/9 [==============================] - 0s 5ms/step - loss: 0.4700 - accuracy: 0.8004 - val_loss: 0.3959 - val_accuracy: 0.8462\n",
      "Epoch 36/100\n",
      "9/9 [==============================] - 0s 5ms/step - loss: 0.4705 - accuracy: 0.7916 - val_loss: 0.3768 - val_accuracy: 0.8462\n",
      "Epoch 37/100\n",
      "9/9 [==============================] - 0s 4ms/step - loss: 0.4719 - accuracy: 0.7951 - val_loss: 0.3782 - val_accuracy: 0.8462\n",
      "Epoch 38/100\n",
      "9/9 [==============================] - 0s 6ms/step - loss: 0.4639 - accuracy: 0.8004 - val_loss: 0.3715 - val_accuracy: 0.8601\n",
      "Epoch 39/100\n",
      "9/9 [==============================] - 0s 5ms/step - loss: 0.4628 - accuracy: 0.7898 - val_loss: 0.3726 - val_accuracy: 0.8741\n",
      "Epoch 40/100\n",
      "9/9 [==============================] - 0s 5ms/step - loss: 0.4643 - accuracy: 0.7986 - val_loss: 0.3720 - val_accuracy: 0.8462\n",
      "Epoch 41/100\n",
      "9/9 [==============================] - 0s 5ms/step - loss: 0.4584 - accuracy: 0.8004 - val_loss: 0.3794 - val_accuracy: 0.8462\n",
      "Epoch 42/100\n",
      "9/9 [==============================] - 0s 5ms/step - loss: 0.4580 - accuracy: 0.7986 - val_loss: 0.3789 - val_accuracy: 0.8462\n",
      "Epoch 43/100\n",
      "9/9 [==============================] - 0s 5ms/step - loss: 0.4656 - accuracy: 0.7881 - val_loss: 0.3689 - val_accuracy: 0.8462\n",
      "Epoch 44/100\n",
      "9/9 [==============================] - 0s 6ms/step - loss: 0.4572 - accuracy: 0.7933 - val_loss: 0.3700 - val_accuracy: 0.8392\n",
      "Epoch 45/100\n",
      "9/9 [==============================] - 0s 5ms/step - loss: 0.4607 - accuracy: 0.7898 - val_loss: 0.3700 - val_accuracy: 0.8392\n",
      "Epoch 46/100\n",
      "9/9 [==============================] - 0s 5ms/step - loss: 0.4564 - accuracy: 0.7916 - val_loss: 0.3753 - val_accuracy: 0.8601\n",
      "Epoch 47/100\n",
      "9/9 [==============================] - 0s 5ms/step - loss: 0.4516 - accuracy: 0.8021 - val_loss: 0.3831 - val_accuracy: 0.8531\n",
      "Epoch 48/100\n",
      "9/9 [==============================] - 0s 5ms/step - loss: 0.4624 - accuracy: 0.7968 - val_loss: 0.3758 - val_accuracy: 0.8531\n",
      "Epoch 49/100\n",
      "9/9 [==============================] - 0s 5ms/step - loss: 0.4644 - accuracy: 0.7811 - val_loss: 0.3675 - val_accuracy: 0.8601\n",
      "Epoch 50/100\n",
      "9/9 [==============================] - 0s 4ms/step - loss: 0.4619 - accuracy: 0.7846 - val_loss: 0.3640 - val_accuracy: 0.8671\n",
      "Epoch 51/100\n",
      "9/9 [==============================] - 0s 4ms/step - loss: 0.4496 - accuracy: 0.7951 - val_loss: 0.3647 - val_accuracy: 0.8462\n",
      "Epoch 52/100\n",
      "9/9 [==============================] - 0s 5ms/step - loss: 0.4450 - accuracy: 0.8126 - val_loss: 0.3683 - val_accuracy: 0.8462\n",
      "Epoch 53/100\n",
      "9/9 [==============================] - 0s 5ms/step - loss: 0.4449 - accuracy: 0.8126 - val_loss: 0.3714 - val_accuracy: 0.8462\n",
      "Epoch 54/100\n",
      "9/9 [==============================] - 0s 5ms/step - loss: 0.4455 - accuracy: 0.8091 - val_loss: 0.3644 - val_accuracy: 0.8671\n",
      "Epoch 55/100\n",
      "9/9 [==============================] - 0s 6ms/step - loss: 0.4569 - accuracy: 0.7863 - val_loss: 0.3656 - val_accuracy: 0.8671\n",
      "Epoch 56/100\n",
      "9/9 [==============================] - 0s 6ms/step - loss: 0.4488 - accuracy: 0.8039 - val_loss: 0.3696 - val_accuracy: 0.8392\n",
      "Epoch 57/100\n",
      "9/9 [==============================] - 0s 5ms/step - loss: 0.4478 - accuracy: 0.8091 - val_loss: 0.3719 - val_accuracy: 0.8462\n",
      "Epoch 58/100\n",
      "9/9 [==============================] - 0s 5ms/step - loss: 0.4412 - accuracy: 0.8056 - val_loss: 0.3619 - val_accuracy: 0.8462\n",
      "Epoch 59/100\n",
      "9/9 [==============================] - 0s 5ms/step - loss: 0.4506 - accuracy: 0.8056 - val_loss: 0.3556 - val_accuracy: 0.8741\n",
      "Epoch 60/100\n",
      "9/9 [==============================] - 0s 5ms/step - loss: 0.4366 - accuracy: 0.8091 - val_loss: 0.3633 - val_accuracy: 0.8462\n",
      "Epoch 61/100\n",
      "9/9 [==============================] - 0s 5ms/step - loss: 0.4375 - accuracy: 0.8126 - val_loss: 0.3659 - val_accuracy: 0.8392\n",
      "Epoch 62/100\n",
      "9/9 [==============================] - 0s 5ms/step - loss: 0.4448 - accuracy: 0.8004 - val_loss: 0.3733 - val_accuracy: 0.8601\n",
      "Epoch 63/100\n",
      "9/9 [==============================] - 0s 4ms/step - loss: 0.4629 - accuracy: 0.7846 - val_loss: 0.3559 - val_accuracy: 0.8811\n",
      "Epoch 64/100\n",
      "9/9 [==============================] - 0s 4ms/step - loss: 0.4556 - accuracy: 0.7968 - val_loss: 0.3640 - val_accuracy: 0.8322\n",
      "Epoch 65/100\n",
      "9/9 [==============================] - 0s 4ms/step - loss: 0.4397 - accuracy: 0.8056 - val_loss: 0.3768 - val_accuracy: 0.8392\n",
      "Epoch 66/100\n",
      "9/9 [==============================] - 0s 4ms/step - loss: 0.4355 - accuracy: 0.8021 - val_loss: 0.3570 - val_accuracy: 0.8601\n",
      "Epoch 67/100\n",
      "9/9 [==============================] - 0s 4ms/step - loss: 0.4487 - accuracy: 0.7986 - val_loss: 0.3561 - val_accuracy: 0.8531\n",
      "Epoch 68/100\n",
      "9/9 [==============================] - 0s 4ms/step - loss: 0.4346 - accuracy: 0.8126 - val_loss: 0.3696 - val_accuracy: 0.8392\n",
      "Epoch 69/100\n",
      "9/9 [==============================] - 0s 4ms/step - loss: 0.4372 - accuracy: 0.7916 - val_loss: 0.3551 - val_accuracy: 0.8531\n",
      "Epoch 70/100\n",
      "9/9 [==============================] - 0s 4ms/step - loss: 0.4292 - accuracy: 0.8144 - val_loss: 0.3581 - val_accuracy: 0.8531\n",
      "Epoch 71/100\n",
      "9/9 [==============================] - 0s 4ms/step - loss: 0.4435 - accuracy: 0.8004 - val_loss: 0.3663 - val_accuracy: 0.8392\n",
      "Epoch 72/100\n",
      "9/9 [==============================] - 0s 4ms/step - loss: 0.4270 - accuracy: 0.8179 - val_loss: 0.3517 - val_accuracy: 0.8741\n",
      "Epoch 73/100\n",
      "9/9 [==============================] - 0s 5ms/step - loss: 0.4325 - accuracy: 0.8021 - val_loss: 0.3623 - val_accuracy: 0.8392\n",
      "Epoch 74/100\n",
      "9/9 [==============================] - 0s 4ms/step - loss: 0.4307 - accuracy: 0.8231 - val_loss: 0.3907 - val_accuracy: 0.8462\n",
      "Epoch 75/100\n",
      "9/9 [==============================] - 0s 5ms/step - loss: 0.4428 - accuracy: 0.7986 - val_loss: 0.3533 - val_accuracy: 0.8741\n",
      "Epoch 76/100\n",
      "9/9 [==============================] - 0s 7ms/step - loss: 0.4300 - accuracy: 0.8091 - val_loss: 0.3570 - val_accuracy: 0.8392\n",
      "Epoch 77/100\n",
      "9/9 [==============================] - 0s 4ms/step - loss: 0.4297 - accuracy: 0.8196 - val_loss: 0.3695 - val_accuracy: 0.8531\n",
      "Epoch 78/100\n",
      "9/9 [==============================] - 0s 5ms/step - loss: 0.4280 - accuracy: 0.8196 - val_loss: 0.3576 - val_accuracy: 0.8531\n",
      "Epoch 79/100\n",
      "9/9 [==============================] - 0s 7ms/step - loss: 0.4356 - accuracy: 0.7916 - val_loss: 0.3520 - val_accuracy: 0.8462\n",
      "Epoch 80/100\n",
      "9/9 [==============================] - 0s 5ms/step - loss: 0.4237 - accuracy: 0.8126 - val_loss: 0.3595 - val_accuracy: 0.8531\n",
      "Epoch 81/100\n",
      "9/9 [==============================] - 0s 5ms/step - loss: 0.4296 - accuracy: 0.8056 - val_loss: 0.3641 - val_accuracy: 0.8252\n",
      "Epoch 82/100\n",
      "9/9 [==============================] - 0s 5ms/step - loss: 0.4277 - accuracy: 0.8004 - val_loss: 0.3701 - val_accuracy: 0.8392\n",
      "Epoch 83/100\n",
      "9/9 [==============================] - 0s 5ms/step - loss: 0.4226 - accuracy: 0.8214 - val_loss: 0.3527 - val_accuracy: 0.8531\n",
      "Epoch 84/100\n",
      "9/9 [==============================] - 0s 5ms/step - loss: 0.4225 - accuracy: 0.8161 - val_loss: 0.3565 - val_accuracy: 0.8392\n",
      "Epoch 85/100\n",
      "9/9 [==============================] - 0s 5ms/step - loss: 0.4199 - accuracy: 0.8074 - val_loss: 0.3508 - val_accuracy: 0.8601\n",
      "Epoch 86/100\n",
      "9/9 [==============================] - 0s 4ms/step - loss: 0.4198 - accuracy: 0.8214 - val_loss: 0.3738 - val_accuracy: 0.8252\n",
      "Epoch 87/100\n",
      "9/9 [==============================] - 0s 5ms/step - loss: 0.4276 - accuracy: 0.7986 - val_loss: 0.3615 - val_accuracy: 0.8392\n",
      "Epoch 88/100\n",
      "9/9 [==============================] - 0s 5ms/step - loss: 0.4276 - accuracy: 0.8161 - val_loss: 0.3698 - val_accuracy: 0.8252\n",
      "Epoch 89/100\n",
      "9/9 [==============================] - 0s 5ms/step - loss: 0.4490 - accuracy: 0.7916 - val_loss: 0.3590 - val_accuracy: 0.8601\n",
      "Epoch 90/100\n",
      "9/9 [==============================] - 0s 4ms/step - loss: 0.4267 - accuracy: 0.8056 - val_loss: 0.3556 - val_accuracy: 0.8392\n",
      "Epoch 91/100\n",
      "9/9 [==============================] - 0s 4ms/step - loss: 0.4269 - accuracy: 0.8109 - val_loss: 0.3493 - val_accuracy: 0.8601\n",
      "Epoch 92/100\n",
      "9/9 [==============================] - 0s 4ms/step - loss: 0.4285 - accuracy: 0.8004 - val_loss: 0.3578 - val_accuracy: 0.8531\n",
      "Epoch 93/100\n",
      "9/9 [==============================] - 0s 5ms/step - loss: 0.4221 - accuracy: 0.8126 - val_loss: 0.3743 - val_accuracy: 0.8392\n",
      "Epoch 94/100\n",
      "9/9 [==============================] - 0s 4ms/step - loss: 0.4193 - accuracy: 0.8144 - val_loss: 0.3549 - val_accuracy: 0.8392\n",
      "Epoch 95/100\n",
      "9/9 [==============================] - 0s 4ms/step - loss: 0.4203 - accuracy: 0.8091 - val_loss: 0.3507 - val_accuracy: 0.8601\n",
      "Epoch 96/100\n",
      "9/9 [==============================] - 0s 5ms/step - loss: 0.4162 - accuracy: 0.8231 - val_loss: 0.3476 - val_accuracy: 0.8601\n",
      "Epoch 97/100\n",
      "9/9 [==============================] - 0s 4ms/step - loss: 0.4151 - accuracy: 0.8196 - val_loss: 0.3684 - val_accuracy: 0.8322\n",
      "Epoch 98/100\n",
      "9/9 [==============================] - 0s 5ms/step - loss: 0.4147 - accuracy: 0.8179 - val_loss: 0.3508 - val_accuracy: 0.8601\n",
      "Epoch 99/100\n",
      "9/9 [==============================] - 0s 4ms/step - loss: 0.4146 - accuracy: 0.8091 - val_loss: 0.3654 - val_accuracy: 0.8392\n",
      "Epoch 100/100\n",
      "9/9 [==============================] - 0s 4ms/step - loss: 0.4261 - accuracy: 0.8126 - val_loss: 0.3757 - val_accuracy: 0.8322\n"
     ]
    }
   ],
   "source": [
    "model = build_model(5, 32)"
   ]
  },
  {
   "cell_type": "code",
   "execution_count": 79,
   "metadata": {},
   "outputs": [
    {
     "name": "stdout",
     "output_type": "stream",
     "text": [
      "WARNING:tensorflow:Layers in a Sequential model should only have a single input tensor, but we receive a <class 'tuple'> input: (<tf.Tensor 'IteratorGetNext:0' shape=(None, 6) dtype=float64>,)\n",
      "Consider rewriting this model with the Functional API.\n"
     ]
    }
   ],
   "source": [
    "predictions = model.predict([X_test]).T\n",
    "\n",
    "for i in range(predictions.shape[1]):    \n",
    "        if predictions[0,i] > 0.5:\n",
    "            predictions[0,i] = 1\n",
    "        else:\n",
    "            predictions[0,i] = 0\n",
    "       \n",
    "predictions = predictions.astype(np.int)"
   ]
  },
  {
   "cell_type": "code",
   "execution_count": 80,
   "metadata": {},
   "outputs": [
    {
     "name": "stdout",
     "output_type": "stream",
     "text": [
      "Your submission was successfully saved!\n"
     ]
    }
   ],
   "source": [
    "predictions = np.squeeze(predictions)\n",
    "\n",
    "\n",
    "# output = pd.DataFrame({'Sex': np.squeeze(X_val.T[:, 3]), 'Predictions': predictions, 'Actual': np.squeeze(y_val)})\n",
    "output = pd.DataFrame({'PassengerId': test_data.PassengerId, 'Survived': predictions})\n",
    "output.to_csv('titanic.csv', index=False)\n",
    "print(\"Your submission was successfully saved!\")"
   ]
  },
  {
   "cell_type": "code",
   "execution_count": null,
   "metadata": {},
   "outputs": [],
   "source": []
  }
 ],
 "metadata": {
  "interpreter": {
   "hash": "767d51c1340bd893661ea55ea3124f6de3c7a262a8b4abca0554b478b1e2ff90"
  },
  "kernelspec": {
   "display_name": "Python 3.9.7 64-bit",
   "name": "python3"
  },
  "language_info": {
   "codemirror_mode": {
    "name": "ipython",
    "version": 3
   },
   "file_extension": ".py",
   "mimetype": "text/x-python",
   "name": "python",
   "nbconvert_exporter": "python",
   "pygments_lexer": "ipython3",
   "version": "3.9.7"
  },
  "orig_nbformat": 4
 },
 "nbformat": 4,
 "nbformat_minor": 2
}
